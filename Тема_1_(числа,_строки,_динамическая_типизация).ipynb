{
  "nbformat": 4,
  "nbformat_minor": 0,
  "metadata": {
    "colab": {
      "name": "Тема 1 (числа, строки, динамическая типизация).ipynb",
      "provenance": [],
      "collapsed_sections": [
        "BCVMC3P__HxJ"
      ],
      "authorship_tag": "ABX9TyP9G1T/1eztr5vPepzYH+rf",
      "include_colab_link": true
    },
    "kernelspec": {
      "name": "python3",
      "display_name": "Python 3"
    }
  },
  "cells": [
    {
      "cell_type": "markdown",
      "metadata": {
        "id": "view-in-github",
        "colab_type": "text"
      },
      "source": [
        "<a href=\"https://colab.research.google.com/github/RochevAleksey/hello-world/blob/main/%D0%A2%D0%B5%D0%BC%D0%B0_1_(%D1%87%D0%B8%D1%81%D0%BB%D0%B0%2C_%D1%81%D1%82%D1%80%D0%BE%D0%BA%D0%B8%2C_%D0%B4%D0%B8%D0%BD%D0%B0%D0%BC%D0%B8%D1%87%D0%B5%D1%81%D0%BA%D0%B0%D1%8F_%D1%82%D0%B8%D0%BF%D0%B8%D0%B7%D0%B0%D1%86%D0%B8%D1%8F).ipynb\" target=\"_parent\"><img src=\"https://colab.research.google.com/assets/colab-badge.svg\" alt=\"Open In Colab\"/></a>"
      ]
    },
    {
      "cell_type": "markdown",
      "metadata": {
        "id": "yeyE2pKy1RdX"
      },
      "source": [
        "#Тема 1 Числа, строки, динамическая типизация\n"
      ]
    },
    {
      "cell_type": "markdown",
      "metadata": {
        "id": "Rd18v10gLjcZ"
      },
      "source": [
        "# Аудиторка"
      ]
    },
    {
      "cell_type": "markdown",
      "metadata": {
        "id": "ObNMezdYLnUW"
      },
      "source": [
        "**Задача**\n",
        "\n",
        "Отобрали, подготовили, исследовали керн. Месторождение Ярегское, скважина S-2H, глубина 207.13 м, направление - параллельно напластованию.\n",
        "\n",
        "\n",
        "![sample 66](https://drive.google.com/uc?export=view&id=1hQ3ELe6TnsxXqRwmnsh656189O9bqg2p)\n",
        "\n",
        "\n",
        "Диаметр образца 29.36 мм.\n",
        "\n",
        "![sample 66](https://drive.google.com/uc?export=view&id=13izSnleNG5CEI8j5PKsrIt3JqTHrYY6T)\n",
        "\n",
        "\n",
        "Длина образца 40.60 мм.\n",
        "\n",
        "![sample 66](https://drive.google.com/uc?export=view&id=1bFBiE-DI1zutkn-KS797HWIi3gu95JM6)\n",
        "\n",
        "\n",
        "Задача: рассчитать объем образца."
      ]
    },
    {
      "cell_type": "markdown",
      "metadata": {
        "id": "mEd6L_g9PHHH"
      },
      "source": [
        "Поскольку образец цилиндрической формы, очевидно\n",
        "\n",
        "$$v = \\frac{\\pi d^2}{4}l$$\n",
        "\n",
        "Проведем расчет"
      ]
    },
    {
      "cell_type": "code",
      "metadata": {
        "colab": {
          "base_uri": "https://localhost:8080/"
        },
        "id": "4OgpIEolQUqu",
        "outputId": "60da04ce-765c-4b7a-be37-fd64af080d7b"
      },
      "source": [
        "3.14*29.36**2/4*40.60*1e-3"
      ],
      "execution_count": null,
      "outputs": [
        {
          "output_type": "execute_result",
          "data": {
            "text/plain": [
              "27.473107961600004"
            ]
          },
          "metadata": {
            "tags": []
          },
          "execution_count": 2
        }
      ]
    },
    {
      "cell_type": "markdown",
      "metadata": {
        "id": "iEtXaBbgRVBV"
      },
      "source": [
        "Умножение на `1e-3` произведено для перевода объема в куб. см.\n",
        "\n",
        "В целом порядок действий очевиден. Сомнения может вызвать только возведение в степень (действие `**`). Проверим"
      ]
    },
    {
      "cell_type": "code",
      "metadata": {
        "id": "WF4WjAOZ3iUe",
        "colab": {
          "base_uri": "https://localhost:8080/"
        },
        "outputId": "803ade62-03d2-4359-f573-9d671a9333cc"
      },
      "source": [
        "3.14*(29.36**2)/4*40.60*1e-3"
      ],
      "execution_count": null,
      "outputs": [
        {
          "output_type": "execute_result",
          "data": {
            "text/plain": [
              "27.473107961600004"
            ]
          },
          "metadata": {
            "tags": []
          },
          "execution_count": 3
        }
      ]
    },
    {
      "cell_type": "markdown",
      "metadata": {
        "id": "7a9Eox_DRz47"
      },
      "source": [
        "Результат полностью совпадает с предыдущим."
      ]
    },
    {
      "cell_type": "markdown",
      "metadata": {
        "id": "PuQxiU3KSfeI"
      },
      "source": [
        "Приведенный расчет  некорректен с точки зрения точности, поскольку используемое значение константы $\\pi-$ `3.14` ниже точности измерения, так как содержит только три значащие цифры, а замер произведен с четырмя значащими цифрами.\n",
        "\n",
        "Для того, чтобы не заботиться о точности ввода $\\pi$, воспользуемся математическим модулем."
      ]
    },
    {
      "cell_type": "code",
      "metadata": {
        "id": "lCpGzIia38-M",
        "colab": {
          "base_uri": "https://localhost:8080/"
        },
        "outputId": "bfb1d0ed-a2c1-48cc-9793-028e0a5e21e8"
      },
      "source": [
        "from math import pi\n",
        "pi*29.36**2/4*40.60*1e-3"
      ],
      "execution_count": null,
      "outputs": [
        {
          "output_type": "execute_result",
          "data": {
            "text/plain": [
              "27.48704272084134"
            ]
          },
          "metadata": {
            "tags": []
          },
          "execution_count": 4
        }
      ]
    },
    {
      "cell_type": "markdown",
      "metadata": {
        "id": "2xOCJGunT2-I"
      },
      "source": [
        "Теперь наша программа состоит из двух инструкций, записанных в две строки. В первой строке приведенного выше кода производится импорт константы $\\pi$ из математического модуля `math`. Более подробное описание работы с модулями - впереди. \n",
        "\n",
        "Во второй строке находится инструкция расчета объема образца, которая состоит из имени `pi`, чисел и математических операторов (`/`, `*`, `**`). Окончанием инструкции в Питоне по умолчанию является конец строки. Поскольку результаты замера длины и диаметра у нас приведены в виде чисел, то во всем выражении неясным остается только значение `pi`. Давайте посмотрим ее значение."
      ]
    },
    {
      "cell_type": "code",
      "metadata": {
        "colab": {
          "base_uri": "https://localhost:8080/"
        },
        "id": "2X1zXmACUyw3",
        "outputId": "9fd3324d-6779-4a2e-a028-4b9419ebe943"
      },
      "source": [
        "print(pi)"
      ],
      "execution_count": null,
      "outputs": [
        {
          "output_type": "stream",
          "text": [
            "3.141592653589793\n"
          ],
          "name": "stdout"
        }
      ]
    },
    {
      "cell_type": "markdown",
      "metadata": {
        "id": "Zvk-eZZI2Hlb"
      },
      "source": [
        "`print` - встроенная функция для вывода. По умолчанию вывод производится в так называемый стандарный вывод (т.е. на экран).\n",
        "\n",
        "В принципе, если ограничиться только вычислением объема, то задача решена. Однако, если значение объема понадобится нам в дальнейшем, то его придется вычислить снова, поскольку оно нигде не сохранилось. Если мы хотим сохранить вычисленное значение, то надо немного изменить нашу программу."
      ]
    },
    {
      "cell_type": "code",
      "metadata": {
        "colab": {
          "base_uri": "https://localhost:8080/"
        },
        "id": "0oMK_Sp9WM7U",
        "outputId": "70d796fa-e87e-450c-a302-1621670a3f85"
      },
      "source": [
        "volu = pi*29.36**2/4*40.60*1e-3\n",
        "print('Объем образца, см3:', volu)"
      ],
      "execution_count": null,
      "outputs": [
        {
          "output_type": "stream",
          "text": [
            "Объем образца, см3: 27.48704272084134\n"
          ],
          "name": "stdout"
        }
      ]
    },
    {
      "cell_type": "markdown",
      "metadata": {
        "id": "FUqPLP9b3jcd"
      },
      "source": [
        "Теперь имя `volu` ссылается на результат нашего расчета. И хотя часто говорят, что оператор `=` присваивает переменной `volu` значение нашего расчета, с точки зрения языка Питон это не совсем так, поскольку в Питон используется ссылочная модель данных. Более подробно особенности ссылочной модели будут ясны из дальнейшего изложения и примеров. А пока, раз уж начали, давайте дадим имена всем сведениям о нашем образце керна. "
      ]
    },
    {
      "cell_type": "code",
      "metadata": {
        "id": "524ZXNPY5vQA"
      },
      "source": [
        "diam = 29.36\n",
        "length = 40.60\n",
        "field = 'Ярегское'\n",
        "well = 'S-2H'\n",
        "depth = 207.13\n",
        "direction = 'parallel'\n",
        "num = '66'"
      ],
      "execution_count": null,
      "outputs": []
    },
    {
      "cell_type": "markdown",
      "metadata": {
        "id": "kDlgjMaQbfbt"
      },
      "source": [
        "Поскольку мы записали каждую инструкцию присваивания в отдельную строку, то наша программа начинает расти в размере. В принципе, Питон поддерживает точку с запяток в качестве разделителя инструкций. Поэтому возможна следующая запись.  "
      ]
    },
    {
      "cell_type": "code",
      "metadata": {
        "id": "ROzvlag7flCH"
      },
      "source": [
        "diam = 29.36; length = 40.60\n",
        "field = 'Ярегское'; well = 'S-2H'\n",
        "depth = 207.13; direction = 'parallel'\n",
        "num = '66'"
      ],
      "execution_count": null,
      "outputs": []
    },
    {
      "cell_type": "markdown",
      "metadata": {
        "id": "uoAySbsrgD4f"
      },
      "source": [
        "Хотя приведенный выше код и занимает меньше строк, но вряд ли выигрывает с точки зрения читаемости.\n",
        "\n",
        "Более удобным, как с точки зрения читаемости, так и с точки зрения удобства, может быть кортежное присваивание."
      ]
    },
    {
      "cell_type": "code",
      "metadata": {
        "id": "rOS2ZXOcgc0u"
      },
      "source": [
        "diam, length = 29.36, 40.60\n",
        "field, well = 'Ярегское', 'S-2H'\n",
        "depth, direction = 207.13, 'parallel'\n",
        "num = '66'"
      ],
      "execution_count": null,
      "outputs": []
    },
    {
      "cell_type": "markdown",
      "metadata": {
        "id": "MKwO5PnDa1yd"
      },
      "source": [
        "В Питоне применяется т.н. динамическая типизация. Это означает, что нам не нужно указывать, какого типа будет переменная. Но, очевидно, что если мы дали чему-то имя, то в дальнейшем мы собираемся его каким-то образом применять, например, использовать в инструкциях. Поэтому, у введенных нами данных все равно есть какой-то тип.\n",
        "\n",
        "Для просмотра типа введенной переменной существует функция `type`. Давайте посмотрим тип введенных нами данных."
      ]
    },
    {
      "cell_type": "code",
      "metadata": {
        "colab": {
          "base_uri": "https://localhost:8080/"
        },
        "id": "hh2L7RAZqXv4",
        "outputId": "8491ca3d-316f-40c6-cb52-5810668fab4a"
      },
      "source": [
        "print(type(pi))\n",
        "print(type(diam))\n",
        "print(type(field))\n",
        "print(type(num))\n",
        "print(type(volu))"
      ],
      "execution_count": null,
      "outputs": [
        {
          "output_type": "stream",
          "text": [
            "<class 'float'>\n",
            "<class 'float'>\n",
            "<class 'str'>\n",
            "<class 'str'>\n",
            "<class 'float'>\n"
          ],
          "name": "stdout"
        }
      ]
    },
    {
      "cell_type": "markdown",
      "metadata": {
        "id": "3aPpC5TovJm8"
      },
      "source": [
        "Обратите внимание, что для всех переменных в результате присутствует `class`. Это одно из центральных понятий языка Питон. Питон - это object-based язык. Т.е. язык, основанный на объектах. Так, в нашем примере, имя `diam` - это ссылка на объект типа `float`, а `field` - на объект типа строки (`str`). Имя `sample` также указывает на объект типа `str` (это произошло потому, что мы ввели его в кавычках).\n",
        "\n",
        "В Питон все является объектом. Например,\n"
      ]
    },
    {
      "cell_type": "code",
      "metadata": {
        "colab": {
          "base_uri": "https://localhost:8080/"
        },
        "id": "kPocaAzC5rCS",
        "outputId": "9a273ab3-3ce3-4890-b088-6b891490eca5"
      },
      "source": [
        "print(type(2))"
      ],
      "execution_count": null,
      "outputs": [
        {
          "output_type": "stream",
          "text": [
            "<class 'int'>\n"
          ],
          "name": "stdout"
        }
      ]
    },
    {
      "cell_type": "markdown",
      "metadata": {
        "id": "7BJgubP4582D"
      },
      "source": [
        "Применение математических операторов к объектам типа `int` и `float` естественно. Однако, в Питон возможно применение операций сложения и, например, к строковому типу"
      ]
    },
    {
      "cell_type": "code",
      "metadata": {
        "colab": {
          "base_uri": "https://localhost:8080/"
        },
        "id": "wsBW3TJu6lbl",
        "outputId": "bfbc0593-c1aa-41ef-83f3-608c7c264217"
      },
      "source": [
        "sample = field + well + num\n",
        "print(sample)"
      ],
      "execution_count": null,
      "outputs": [
        {
          "output_type": "stream",
          "text": [
            "ЯрегскоеS-2H66\n"
          ],
          "name": "stdout"
        }
      ]
    },
    {
      "cell_type": "markdown",
      "metadata": {
        "id": "HAeRJkJj63nE"
      },
      "source": [
        "Зависимость результата операции от типа данных, к которым она применяется, называется полиморфизмом."
      ]
    },
    {
      "cell_type": "markdown",
      "metadata": {
        "id": "-F0L6dta9VY_"
      },
      "source": [
        "Поскольку определение типа данных происходит автоматически, то существует возможность привести тип данных.\n",
        "\n",
        "Например"
      ]
    },
    {
      "cell_type": "code",
      "metadata": {
        "colab": {
          "base_uri": "https://localhost:8080/"
        },
        "id": "8mmWcKcM9ja3",
        "outputId": "dacf05a5-d2e8-4c7f-bddb-51c06c7d77ef"
      },
      "source": [
        "depth1 = str(depth)\n",
        "print(2*depth1)\n",
        "print(type(depth1))"
      ],
      "execution_count": null,
      "outputs": [
        {
          "output_type": "stream",
          "text": [
            "207.13207.13\n",
            "<class 'str'>\n"
          ],
          "name": "stdout"
        }
      ]
    },
    {
      "cell_type": "markdown",
      "metadata": {
        "id": "w0fpgJGbDAdU"
      },
      "source": [
        "В некоторых случаях возможно и преобразование стокового типа в числовой."
      ]
    },
    {
      "cell_type": "code",
      "metadata": {
        "colab": {
          "base_uri": "https://localhost:8080/"
        },
        "id": "4SA-uYabDHWa",
        "outputId": "b43e8a60-ef51-4731-c957-9a7a5ad9c296"
      },
      "source": [
        "n = int(num)\n",
        "print(n, type(n))"
      ],
      "execution_count": null,
      "outputs": [
        {
          "output_type": "stream",
          "text": [
            "66 <class 'int'>\n"
          ],
          "name": "stdout"
        }
      ]
    },
    {
      "cell_type": "markdown",
      "metadata": {
        "id": "8AXofBqY-P78"
      },
      "source": [
        "Важным типом данных является логических тип"
      ]
    },
    {
      "cell_type": "code",
      "metadata": {
        "colab": {
          "base_uri": "https://localhost:8080/"
        },
        "id": "bbStpkHI-Xfv",
        "outputId": "4d7b105c-7548-467d-d8e9-815090a062b0"
      },
      "source": [
        "flag = diam < length\n",
        "print(flag, type(flag))\n",
        "\n",
        "flag_new = diam > length"
      ],
      "execution_count": null,
      "outputs": [
        {
          "output_type": "stream",
          "text": [
            "True <class 'bool'>\n",
            "1 <class 'int'>\n"
          ],
          "name": "stdout"
        }
      ]
    },
    {
      "cell_type": "markdown",
      "metadata": {
        "id": "PHrD3LOyEzEX"
      },
      "source": [
        "Итак, **структура программы** на Питоне:\n",
        "\n",
        "1. Программы делятся на модули\n",
        "2. Модули содержат инструкции\n",
        "3. Инструкции состоят из выражений\n",
        "4. Выражения оперируют объектами"
      ]
    },
    {
      "cell_type": "markdown",
      "metadata": {
        "id": "SXatdazTFOKV"
      },
      "source": [
        "Объекты, это нечто большее, чем просто строки или числа (дробные или целые). У объектов есть методы. Например, у класса `float` есть метод, позволяющий определить, является ли число целым"
      ]
    },
    {
      "cell_type": "code",
      "metadata": {
        "colab": {
          "base_uri": "https://localhost:8080/"
        },
        "id": "xaNfICczFuFJ",
        "outputId": "346b1c75-dd08-48b2-b00b-1d64b85b0106"
      },
      "source": [
        "print(diam.is_integer())"
      ],
      "execution_count": null,
      "outputs": [
        {
          "output_type": "stream",
          "text": [
            "False\n"
          ],
          "name": "stdout"
        }
      ]
    },
    {
      "cell_type": "markdown",
      "metadata": {
        "id": "UYuiNMG1F4vt"
      },
      "source": [
        "Метод `is_integer` может быть вызван даже для объекта, записанного в виде числа, для которого не введено никакого имени (т.е. оно записано просто в виде литерала, в терминологии Питон)"
      ]
    },
    {
      "cell_type": "code",
      "metadata": {
        "colab": {
          "base_uri": "https://localhost:8080/"
        },
        "id": "4BS8K9u9GLom",
        "outputId": "bbcaaca8-8bcd-44ae-a475-43818f491904"
      },
      "source": [
        "print(2.0.is_integer())"
      ],
      "execution_count": null,
      "outputs": [
        {
          "output_type": "stream",
          "text": [
            "True\n"
          ],
          "name": "stdout"
        }
      ]
    },
    {
      "cell_type": "markdown",
      "metadata": {
        "id": "-2GyMtHKGmKj"
      },
      "source": [
        "Строковый тип данных объект в Питон является индексируемым. Это означает, что мы может записать."
      ]
    },
    {
      "cell_type": "code",
      "metadata": {
        "colab": {
          "base_uri": "https://localhost:8080/"
        },
        "id": "zKf_mfCuG2cI",
        "outputId": "81c2a168-5742-4fce-f5c5-fa1c335ad01e"
      },
      "source": [
        "print(well[0])\n"
      ],
      "execution_count": null,
      "outputs": [
        {
          "output_type": "stream",
          "text": [
            "S\n"
          ],
          "name": "stdout"
        }
      ]
    },
    {
      "cell_type": "markdown",
      "metadata": {
        "id": "6OaTQ-h-G-fh"
      },
      "source": [
        "Где `[0]` означает первый символ в строке (индексация элементов в Питон начинается с нуля). Можно посмотреть (или извлечь) срез."
      ]
    },
    {
      "cell_type": "code",
      "metadata": {
        "colab": {
          "base_uri": "https://localhost:8080/"
        },
        "id": "CKA0DoiUJoWR",
        "outputId": "cd332d9b-f960-4219-a126-8358f6b853f0"
      },
      "source": [
        "#извлечение со второго по пятый (последний) символ\n",
        "well_num = well[2:5]\n",
        "print(well_num)\n",
        "#извлечение со второго по последний\n",
        "well_num = well[2:]\n",
        "print(well_num)"
      ],
      "execution_count": null,
      "outputs": [
        {
          "output_type": "stream",
          "text": [
            "2H\n",
            "2H\n"
          ],
          "name": "stdout"
        }
      ]
    },
    {
      "cell_type": "markdown",
      "metadata": {
        "id": "8HYkw4ftJeT2"
      },
      "source": [
        "Но объект типа `str` является не изменяемым. Это означает, что мы не можем записать"
      ]
    },
    {
      "cell_type": "code",
      "metadata": {
        "colab": {
          "base_uri": "https://localhost:8080/",
          "height": 164
        },
        "id": "nslqgX0eHb7x",
        "outputId": "715565d9-8a16-44a7-9118-0ba19340a1cf"
      },
      "source": [
        "well[0] = 'M'"
      ],
      "execution_count": null,
      "outputs": [
        {
          "output_type": "error",
          "ename": "TypeError",
          "evalue": "ignored",
          "traceback": [
            "\u001b[0;31m---------------------------------------------------------------------------\u001b[0m",
            "\u001b[0;31mTypeError\u001b[0m                                 Traceback (most recent call last)",
            "\u001b[0;32m<ipython-input-20-f774c18849cb>\u001b[0m in \u001b[0;36m<module>\u001b[0;34m()\u001b[0m\n\u001b[0;32m----> 1\u001b[0;31m \u001b[0mwell\u001b[0m\u001b[0;34m[\u001b[0m\u001b[0;36m0\u001b[0m\u001b[0;34m]\u001b[0m \u001b[0;34m=\u001b[0m \u001b[0;34m'M'\u001b[0m\u001b[0;34m\u001b[0m\u001b[0;34m\u001b[0m\u001b[0m\n\u001b[0m",
            "\u001b[0;31mTypeError\u001b[0m: 'str' object does not support item assignment"
          ]
        }
      ]
    },
    {
      "cell_type": "markdown",
      "metadata": {
        "id": "OBtDHN4aHtc6"
      },
      "source": [
        "Что, конечно, не означает, что мы не может заменить первый символ строки. Для этого можно воспользоваться \"штатным\" методом класса `str`."
      ]
    },
    {
      "cell_type": "code",
      "metadata": {
        "id": "YW_kV6ZiH2Jb"
      },
      "source": [
        "print(well.replace('S', 'M'))"
      ],
      "execution_count": null,
      "outputs": []
    },
    {
      "cell_type": "markdown",
      "metadata": {
        "id": "f1PLaRNJIdiZ"
      },
      "source": [
        "Тут необходимо заметить, что предыдущая инструкция не изменяет объект, на который ссылается имя `well`. Это легко проверить."
      ]
    },
    {
      "cell_type": "code",
      "metadata": {
        "id": "BfnhoL5VHN1N"
      },
      "source": [
        "print(well)"
      ],
      "execution_count": null,
      "outputs": []
    },
    {
      "cell_type": "markdown",
      "metadata": {
        "id": "QPQNXWFbLPcT"
      },
      "source": [
        "Для замены надо переприсвоить"
      ]
    },
    {
      "cell_type": "code",
      "metadata": {
        "id": "G299Kn5BLV92"
      },
      "source": [
        "well = well.replace('S', 'M')\n",
        "print(well)"
      ],
      "execution_count": null,
      "outputs": []
    },
    {
      "cell_type": "markdown",
      "metadata": {
        "id": "7I307qR3zT48"
      },
      "source": [
        "#Задачи"
      ]
    },
    {
      "cell_type": "markdown",
      "metadata": {
        "id": "i5ECRMpS1mHA"
      },
      "source": [
        "---\n",
        "**Задача 1.1** Пористость образца - 21.4%. Рассчитайте поровый объем\n",
        "\n",
        "\n",
        "$$ PV = V\\cdot PORO $$\n",
        "\n",
        "\n"
      ]
    },
    {
      "cell_type": "markdown",
      "metadata": {
        "id": "ipdLEAQ24_cV"
      },
      "source": [
        "---\n",
        "**Задача 1.2** Масса образца - 56.0360 г. Рассчитайте объемную плотность образца\n",
        "\n",
        "$$\\rho = m/V$$\n",
        "\n"
      ]
    },
    {
      "cell_type": "markdown",
      "metadata": {
        "id": "3gHXFNHWoGGT"
      },
      "source": [
        "---\n",
        "**Задача 1.3** Масса образца - 56.0360 г. Пористость образца - 21,4%. Рассчитайте минералогическую плотность образца\n",
        "\n",
        "$$\\rho_M = m/MV$$\n",
        "\n",
        "где $MV$ - объем зерен\n",
        "\n",
        "$$MV = V(1-PORO)$$\n",
        "\n"
      ]
    },
    {
      "cell_type": "markdown",
      "metadata": {
        "id": "g0804D3Wz6ex"
      },
      "source": [
        "---\n",
        "**Задача 1.4** Пористость образца - 21,4%. Образец полностью насыщают минерализованной водой плотностью $\\rho_в = 1.15\\, г/см^3$. Рассчитайте массу воды в образце.\n",
        "\n",
        "Сначала рассчитаем поровый объем\n",
        "$$PV = V\\cdot PORO$$\n",
        "\n",
        "Поскольку поры полностью заполняются водой, то объем воды равен поровому объему. Тогда масса воды\n",
        "\n",
        "$$m_в = PV\\cdot \\rho_в$$"
      ]
    },
    {
      "cell_type": "markdown",
      "metadata": {
        "id": "Ze85B3d411Ta"
      },
      "source": [
        "---\n",
        "**Задача 1.5** Для насыщения образца надо приготовить солевой раствор. Необходимо, чтобы объем раствора был не менее пяти поровых объемов образца. Если плотность раствора будет равна $\\rho = 1.163 г/см^3$, какова будет масса приготовленного раствора.\n",
        "\n",
        "Пять поровых объемов это\n",
        "\n",
        "$$SV = 5V\\cdot PORO$$\n",
        "\n",
        "Масса раствора \n",
        "\n",
        "$$SM = SV\\cdot \\rho$$\n",
        "\n"
      ]
    },
    {
      "cell_type": "markdown",
      "metadata": {
        "id": "4mUcrX2I8iQ1"
      },
      "source": [
        "---\n",
        "**Задача 1.6** При растворении 10 г гидроксида натрия в 250 г воды температура повысилась на $\\Delta T = 9,7\\, К$. Определить теплоту растворения NaOH, принимая удельную\n",
        "теплоемкость раствора равной удельной теплоемкости воды $c_W = 4,18\\,Дж/(г·К)$.\n",
        "\n",
        "Находим массу раствора \n",
        "\n",
        "$$SM = M_W+M_{NaOH}$$\n",
        "\n",
        "Находим теплоту\n",
        "\n",
        "$$Q = SM\\cdot c_W \\cdot \\Delta T$$"
      ]
    },
    {
      "cell_type": "markdown",
      "metadata": {
        "id": "d6LSenUQK9Rr"
      },
      "source": [
        "#Литература"
      ]
    },
    {
      "cell_type": "markdown",
      "metadata": {
        "id": "BQQP5oUEK_4Z"
      },
      "source": [
        "\n",
        "Лутц. Главы 1-3 и 5"
      ]
    },
    {
      "cell_type": "markdown",
      "metadata": {
        "id": "BCVMC3P__HxJ"
      },
      "source": [
        "#Паскаль реализация"
      ]
    },
    {
      "cell_type": "markdown",
      "metadata": {
        "id": "YHSzt0hy-wKq"
      },
      "source": [
        "```\n",
        "var \n",
        "  l, d : real;\n",
        "  v: real;\n",
        "\n",
        "begin\n",
        "  l := 40.60;\n",
        "  d := 29.36;\n",
        "  v := 3.14*d*d/4*l;\n",
        "  writeln(v*1e-3);\n",
        "end.\n",
        "```"
      ]
    }
  ]
}